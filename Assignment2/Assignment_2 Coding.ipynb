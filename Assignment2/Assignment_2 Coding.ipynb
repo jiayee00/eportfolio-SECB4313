{
  "nbformat": 4,
  "nbformat_minor": 0,
  "metadata": {
    "colab": {
      "provenance": []
    },
    "kernelspec": {
      "name": "python3",
      "display_name": "Python 3"
    },
    "language_info": {
      "name": "python"
    }
  },
  "cells": [
    {
      "cell_type": "code",
      "execution_count": null,
      "metadata": {
        "id": "6KIA_2R9vkR3"
      },
      "outputs": [],
      "source": [
        "import numpy as np\n",
        "import pandas as pd\n",
        "from sklearn.model_selection import train_test_split\n",
        "from itertools import product\n",
        "from sklearn.ensemble import RandomForestClassifier\n",
        "from sklearn.metrics import accuracy_score, classification_report"
      ]
    },
    {
      "cell_type": "code",
      "source": [
        "df = pd.read_csv('/content/heart.csv')\n",
        "df"
      ],
      "metadata": {
        "colab": {
          "base_uri": "https://localhost:8080/",
          "height": 423
        },
        "id": "vR6gyCdsxIKR",
        "outputId": "cd5d250c-ebc0-43e4-ef45-9e2a68182610"
      },
      "execution_count": null,
      "outputs": [
        {
          "output_type": "execute_result",
          "data": {
            "text/plain": [
              "     age  sex  cp  trestbps  chol  fbs  restecg  thalach  exang  oldpeak  \\\n",
              "0     63    1   3       145   233    1        0      150      0      2.3   \n",
              "1     37    1   2       130   250    0        1      187      0      3.5   \n",
              "2     41    0   1       130   204    0        0      172      0      1.4   \n",
              "3     56    1   1       120   236    0        1      178      0      0.8   \n",
              "4     57    0   0       120   354    0        1      163      1      0.6   \n",
              "..   ...  ...  ..       ...   ...  ...      ...      ...    ...      ...   \n",
              "298   57    0   0       140   241    0        1      123      1      0.2   \n",
              "299   45    1   3       110   264    0        1      132      0      1.2   \n",
              "300   68    1   0       144   193    1        1      141      0      3.4   \n",
              "301   57    1   0       130   131    0        1      115      1      1.2   \n",
              "302   57    0   1       130   236    0        0      174      0      0.0   \n",
              "\n",
              "     slope  ca  thal  target  \n",
              "0        0   0     1       1  \n",
              "1        0   0     2       1  \n",
              "2        2   0     2       1  \n",
              "3        2   0     2       1  \n",
              "4        2   0     2       1  \n",
              "..     ...  ..   ...     ...  \n",
              "298      1   0     3       0  \n",
              "299      1   0     3       0  \n",
              "300      1   2     3       0  \n",
              "301      1   1     3       0  \n",
              "302      1   1     2       0  \n",
              "\n",
              "[303 rows x 14 columns]"
            ],
            "text/html": [
              "\n",
              "  <div id=\"df-ec584c18-8ac1-473e-ad74-b4a098ed98b4\" class=\"colab-df-container\">\n",
              "    <div>\n",
              "<style scoped>\n",
              "    .dataframe tbody tr th:only-of-type {\n",
              "        vertical-align: middle;\n",
              "    }\n",
              "\n",
              "    .dataframe tbody tr th {\n",
              "        vertical-align: top;\n",
              "    }\n",
              "\n",
              "    .dataframe thead th {\n",
              "        text-align: right;\n",
              "    }\n",
              "</style>\n",
              "<table border=\"1\" class=\"dataframe\">\n",
              "  <thead>\n",
              "    <tr style=\"text-align: right;\">\n",
              "      <th></th>\n",
              "      <th>age</th>\n",
              "      <th>sex</th>\n",
              "      <th>cp</th>\n",
              "      <th>trestbps</th>\n",
              "      <th>chol</th>\n",
              "      <th>fbs</th>\n",
              "      <th>restecg</th>\n",
              "      <th>thalach</th>\n",
              "      <th>exang</th>\n",
              "      <th>oldpeak</th>\n",
              "      <th>slope</th>\n",
              "      <th>ca</th>\n",
              "      <th>thal</th>\n",
              "      <th>target</th>\n",
              "    </tr>\n",
              "  </thead>\n",
              "  <tbody>\n",
              "    <tr>\n",
              "      <th>0</th>\n",
              "      <td>63</td>\n",
              "      <td>1</td>\n",
              "      <td>3</td>\n",
              "      <td>145</td>\n",
              "      <td>233</td>\n",
              "      <td>1</td>\n",
              "      <td>0</td>\n",
              "      <td>150</td>\n",
              "      <td>0</td>\n",
              "      <td>2.3</td>\n",
              "      <td>0</td>\n",
              "      <td>0</td>\n",
              "      <td>1</td>\n",
              "      <td>1</td>\n",
              "    </tr>\n",
              "    <tr>\n",
              "      <th>1</th>\n",
              "      <td>37</td>\n",
              "      <td>1</td>\n",
              "      <td>2</td>\n",
              "      <td>130</td>\n",
              "      <td>250</td>\n",
              "      <td>0</td>\n",
              "      <td>1</td>\n",
              "      <td>187</td>\n",
              "      <td>0</td>\n",
              "      <td>3.5</td>\n",
              "      <td>0</td>\n",
              "      <td>0</td>\n",
              "      <td>2</td>\n",
              "      <td>1</td>\n",
              "    </tr>\n",
              "    <tr>\n",
              "      <th>2</th>\n",
              "      <td>41</td>\n",
              "      <td>0</td>\n",
              "      <td>1</td>\n",
              "      <td>130</td>\n",
              "      <td>204</td>\n",
              "      <td>0</td>\n",
              "      <td>0</td>\n",
              "      <td>172</td>\n",
              "      <td>0</td>\n",
              "      <td>1.4</td>\n",
              "      <td>2</td>\n",
              "      <td>0</td>\n",
              "      <td>2</td>\n",
              "      <td>1</td>\n",
              "    </tr>\n",
              "    <tr>\n",
              "      <th>3</th>\n",
              "      <td>56</td>\n",
              "      <td>1</td>\n",
              "      <td>1</td>\n",
              "      <td>120</td>\n",
              "      <td>236</td>\n",
              "      <td>0</td>\n",
              "      <td>1</td>\n",
              "      <td>178</td>\n",
              "      <td>0</td>\n",
              "      <td>0.8</td>\n",
              "      <td>2</td>\n",
              "      <td>0</td>\n",
              "      <td>2</td>\n",
              "      <td>1</td>\n",
              "    </tr>\n",
              "    <tr>\n",
              "      <th>4</th>\n",
              "      <td>57</td>\n",
              "      <td>0</td>\n",
              "      <td>0</td>\n",
              "      <td>120</td>\n",
              "      <td>354</td>\n",
              "      <td>0</td>\n",
              "      <td>1</td>\n",
              "      <td>163</td>\n",
              "      <td>1</td>\n",
              "      <td>0.6</td>\n",
              "      <td>2</td>\n",
              "      <td>0</td>\n",
              "      <td>2</td>\n",
              "      <td>1</td>\n",
              "    </tr>\n",
              "    <tr>\n",
              "      <th>...</th>\n",
              "      <td>...</td>\n",
              "      <td>...</td>\n",
              "      <td>...</td>\n",
              "      <td>...</td>\n",
              "      <td>...</td>\n",
              "      <td>...</td>\n",
              "      <td>...</td>\n",
              "      <td>...</td>\n",
              "      <td>...</td>\n",
              "      <td>...</td>\n",
              "      <td>...</td>\n",
              "      <td>...</td>\n",
              "      <td>...</td>\n",
              "      <td>...</td>\n",
              "    </tr>\n",
              "    <tr>\n",
              "      <th>298</th>\n",
              "      <td>57</td>\n",
              "      <td>0</td>\n",
              "      <td>0</td>\n",
              "      <td>140</td>\n",
              "      <td>241</td>\n",
              "      <td>0</td>\n",
              "      <td>1</td>\n",
              "      <td>123</td>\n",
              "      <td>1</td>\n",
              "      <td>0.2</td>\n",
              "      <td>1</td>\n",
              "      <td>0</td>\n",
              "      <td>3</td>\n",
              "      <td>0</td>\n",
              "    </tr>\n",
              "    <tr>\n",
              "      <th>299</th>\n",
              "      <td>45</td>\n",
              "      <td>1</td>\n",
              "      <td>3</td>\n",
              "      <td>110</td>\n",
              "      <td>264</td>\n",
              "      <td>0</td>\n",
              "      <td>1</td>\n",
              "      <td>132</td>\n",
              "      <td>0</td>\n",
              "      <td>1.2</td>\n",
              "      <td>1</td>\n",
              "      <td>0</td>\n",
              "      <td>3</td>\n",
              "      <td>0</td>\n",
              "    </tr>\n",
              "    <tr>\n",
              "      <th>300</th>\n",
              "      <td>68</td>\n",
              "      <td>1</td>\n",
              "      <td>0</td>\n",
              "      <td>144</td>\n",
              "      <td>193</td>\n",
              "      <td>1</td>\n",
              "      <td>1</td>\n",
              "      <td>141</td>\n",
              "      <td>0</td>\n",
              "      <td>3.4</td>\n",
              "      <td>1</td>\n",
              "      <td>2</td>\n",
              "      <td>3</td>\n",
              "      <td>0</td>\n",
              "    </tr>\n",
              "    <tr>\n",
              "      <th>301</th>\n",
              "      <td>57</td>\n",
              "      <td>1</td>\n",
              "      <td>0</td>\n",
              "      <td>130</td>\n",
              "      <td>131</td>\n",
              "      <td>0</td>\n",
              "      <td>1</td>\n",
              "      <td>115</td>\n",
              "      <td>1</td>\n",
              "      <td>1.2</td>\n",
              "      <td>1</td>\n",
              "      <td>1</td>\n",
              "      <td>3</td>\n",
              "      <td>0</td>\n",
              "    </tr>\n",
              "    <tr>\n",
              "      <th>302</th>\n",
              "      <td>57</td>\n",
              "      <td>0</td>\n",
              "      <td>1</td>\n",
              "      <td>130</td>\n",
              "      <td>236</td>\n",
              "      <td>0</td>\n",
              "      <td>0</td>\n",
              "      <td>174</td>\n",
              "      <td>0</td>\n",
              "      <td>0.0</td>\n",
              "      <td>1</td>\n",
              "      <td>1</td>\n",
              "      <td>2</td>\n",
              "      <td>0</td>\n",
              "    </tr>\n",
              "  </tbody>\n",
              "</table>\n",
              "<p>303 rows × 14 columns</p>\n",
              "</div>\n",
              "    <div class=\"colab-df-buttons\">\n",
              "\n",
              "  <div class=\"colab-df-container\">\n",
              "    <button class=\"colab-df-convert\" onclick=\"convertToInteractive('df-ec584c18-8ac1-473e-ad74-b4a098ed98b4')\"\n",
              "            title=\"Convert this dataframe to an interactive table.\"\n",
              "            style=\"display:none;\">\n",
              "\n",
              "  <svg xmlns=\"http://www.w3.org/2000/svg\" height=\"24px\" viewBox=\"0 -960 960 960\">\n",
              "    <path d=\"M120-120v-720h720v720H120Zm60-500h600v-160H180v160Zm220 220h160v-160H400v160Zm0 220h160v-160H400v160ZM180-400h160v-160H180v160Zm440 0h160v-160H620v160ZM180-180h160v-160H180v160Zm440 0h160v-160H620v160Z\"/>\n",
              "  </svg>\n",
              "    </button>\n",
              "\n",
              "  <style>\n",
              "    .colab-df-container {\n",
              "      display:flex;\n",
              "      gap: 12px;\n",
              "    }\n",
              "\n",
              "    .colab-df-convert {\n",
              "      background-color: #E8F0FE;\n",
              "      border: none;\n",
              "      border-radius: 50%;\n",
              "      cursor: pointer;\n",
              "      display: none;\n",
              "      fill: #1967D2;\n",
              "      height: 32px;\n",
              "      padding: 0 0 0 0;\n",
              "      width: 32px;\n",
              "    }\n",
              "\n",
              "    .colab-df-convert:hover {\n",
              "      background-color: #E2EBFA;\n",
              "      box-shadow: 0px 1px 2px rgba(60, 64, 67, 0.3), 0px 1px 3px 1px rgba(60, 64, 67, 0.15);\n",
              "      fill: #174EA6;\n",
              "    }\n",
              "\n",
              "    .colab-df-buttons div {\n",
              "      margin-bottom: 4px;\n",
              "    }\n",
              "\n",
              "    [theme=dark] .colab-df-convert {\n",
              "      background-color: #3B4455;\n",
              "      fill: #D2E3FC;\n",
              "    }\n",
              "\n",
              "    [theme=dark] .colab-df-convert:hover {\n",
              "      background-color: #434B5C;\n",
              "      box-shadow: 0px 1px 3px 1px rgba(0, 0, 0, 0.15);\n",
              "      filter: drop-shadow(0px 1px 2px rgba(0, 0, 0, 0.3));\n",
              "      fill: #FFFFFF;\n",
              "    }\n",
              "  </style>\n",
              "\n",
              "    <script>\n",
              "      const buttonEl =\n",
              "        document.querySelector('#df-ec584c18-8ac1-473e-ad74-b4a098ed98b4 button.colab-df-convert');\n",
              "      buttonEl.style.display =\n",
              "        google.colab.kernel.accessAllowed ? 'block' : 'none';\n",
              "\n",
              "      async function convertToInteractive(key) {\n",
              "        const element = document.querySelector('#df-ec584c18-8ac1-473e-ad74-b4a098ed98b4');\n",
              "        const dataTable =\n",
              "          await google.colab.kernel.invokeFunction('convertToInteractive',\n",
              "                                                    [key], {});\n",
              "        if (!dataTable) return;\n",
              "\n",
              "        const docLinkHtml = 'Like what you see? Visit the ' +\n",
              "          '<a target=\"_blank\" href=https://colab.research.google.com/notebooks/data_table.ipynb>data table notebook</a>'\n",
              "          + ' to learn more about interactive tables.';\n",
              "        element.innerHTML = '';\n",
              "        dataTable['output_type'] = 'display_data';\n",
              "        await google.colab.output.renderOutput(dataTable, element);\n",
              "        const docLink = document.createElement('div');\n",
              "        docLink.innerHTML = docLinkHtml;\n",
              "        element.appendChild(docLink);\n",
              "      }\n",
              "    </script>\n",
              "  </div>\n",
              "\n",
              "\n",
              "<div id=\"df-f3dc4ac7-f108-4c2a-bbc2-d2712896bcc5\">\n",
              "  <button class=\"colab-df-quickchart\" onclick=\"quickchart('df-f3dc4ac7-f108-4c2a-bbc2-d2712896bcc5')\"\n",
              "            title=\"Suggest charts\"\n",
              "            style=\"display:none;\">\n",
              "\n",
              "<svg xmlns=\"http://www.w3.org/2000/svg\" height=\"24px\"viewBox=\"0 0 24 24\"\n",
              "     width=\"24px\">\n",
              "    <g>\n",
              "        <path d=\"M19 3H5c-1.1 0-2 .9-2 2v14c0 1.1.9 2 2 2h14c1.1 0 2-.9 2-2V5c0-1.1-.9-2-2-2zM9 17H7v-7h2v7zm4 0h-2V7h2v10zm4 0h-2v-4h2v4z\"/>\n",
              "    </g>\n",
              "</svg>\n",
              "  </button>\n",
              "\n",
              "<style>\n",
              "  .colab-df-quickchart {\n",
              "      --bg-color: #E8F0FE;\n",
              "      --fill-color: #1967D2;\n",
              "      --hover-bg-color: #E2EBFA;\n",
              "      --hover-fill-color: #174EA6;\n",
              "      --disabled-fill-color: #AAA;\n",
              "      --disabled-bg-color: #DDD;\n",
              "  }\n",
              "\n",
              "  [theme=dark] .colab-df-quickchart {\n",
              "      --bg-color: #3B4455;\n",
              "      --fill-color: #D2E3FC;\n",
              "      --hover-bg-color: #434B5C;\n",
              "      --hover-fill-color: #FFFFFF;\n",
              "      --disabled-bg-color: #3B4455;\n",
              "      --disabled-fill-color: #666;\n",
              "  }\n",
              "\n",
              "  .colab-df-quickchart {\n",
              "    background-color: var(--bg-color);\n",
              "    border: none;\n",
              "    border-radius: 50%;\n",
              "    cursor: pointer;\n",
              "    display: none;\n",
              "    fill: var(--fill-color);\n",
              "    height: 32px;\n",
              "    padding: 0;\n",
              "    width: 32px;\n",
              "  }\n",
              "\n",
              "  .colab-df-quickchart:hover {\n",
              "    background-color: var(--hover-bg-color);\n",
              "    box-shadow: 0 1px 2px rgba(60, 64, 67, 0.3), 0 1px 3px 1px rgba(60, 64, 67, 0.15);\n",
              "    fill: var(--button-hover-fill-color);\n",
              "  }\n",
              "\n",
              "  .colab-df-quickchart-complete:disabled,\n",
              "  .colab-df-quickchart-complete:disabled:hover {\n",
              "    background-color: var(--disabled-bg-color);\n",
              "    fill: var(--disabled-fill-color);\n",
              "    box-shadow: none;\n",
              "  }\n",
              "\n",
              "  .colab-df-spinner {\n",
              "    border: 2px solid var(--fill-color);\n",
              "    border-color: transparent;\n",
              "    border-bottom-color: var(--fill-color);\n",
              "    animation:\n",
              "      spin 1s steps(1) infinite;\n",
              "  }\n",
              "\n",
              "  @keyframes spin {\n",
              "    0% {\n",
              "      border-color: transparent;\n",
              "      border-bottom-color: var(--fill-color);\n",
              "      border-left-color: var(--fill-color);\n",
              "    }\n",
              "    20% {\n",
              "      border-color: transparent;\n",
              "      border-left-color: var(--fill-color);\n",
              "      border-top-color: var(--fill-color);\n",
              "    }\n",
              "    30% {\n",
              "      border-color: transparent;\n",
              "      border-left-color: var(--fill-color);\n",
              "      border-top-color: var(--fill-color);\n",
              "      border-right-color: var(--fill-color);\n",
              "    }\n",
              "    40% {\n",
              "      border-color: transparent;\n",
              "      border-right-color: var(--fill-color);\n",
              "      border-top-color: var(--fill-color);\n",
              "    }\n",
              "    60% {\n",
              "      border-color: transparent;\n",
              "      border-right-color: var(--fill-color);\n",
              "    }\n",
              "    80% {\n",
              "      border-color: transparent;\n",
              "      border-right-color: var(--fill-color);\n",
              "      border-bottom-color: var(--fill-color);\n",
              "    }\n",
              "    90% {\n",
              "      border-color: transparent;\n",
              "      border-bottom-color: var(--fill-color);\n",
              "    }\n",
              "  }\n",
              "</style>\n",
              "\n",
              "  <script>\n",
              "    async function quickchart(key) {\n",
              "      const quickchartButtonEl =\n",
              "        document.querySelector('#' + key + ' button');\n",
              "      quickchartButtonEl.disabled = true;  // To prevent multiple clicks.\n",
              "      quickchartButtonEl.classList.add('colab-df-spinner');\n",
              "      try {\n",
              "        const charts = await google.colab.kernel.invokeFunction(\n",
              "            'suggestCharts', [key], {});\n",
              "      } catch (error) {\n",
              "        console.error('Error during call to suggestCharts:', error);\n",
              "      }\n",
              "      quickchartButtonEl.classList.remove('colab-df-spinner');\n",
              "      quickchartButtonEl.classList.add('colab-df-quickchart-complete');\n",
              "    }\n",
              "    (() => {\n",
              "      let quickchartButtonEl =\n",
              "        document.querySelector('#df-f3dc4ac7-f108-4c2a-bbc2-d2712896bcc5 button');\n",
              "      quickchartButtonEl.style.display =\n",
              "        google.colab.kernel.accessAllowed ? 'block' : 'none';\n",
              "    })();\n",
              "  </script>\n",
              "</div>\n",
              "    </div>\n",
              "  </div>\n"
            ],
            "application/vnd.google.colaboratory.intrinsic+json": {
              "type": "dataframe",
              "variable_name": "df",
              "summary": "{\n  \"name\": \"df\",\n  \"rows\": 303,\n  \"fields\": [\n    {\n      \"column\": \"age\",\n      \"properties\": {\n        \"dtype\": \"number\",\n        \"std\": 9,\n        \"min\": 29,\n        \"max\": 77,\n        \"num_unique_values\": 41,\n        \"samples\": [\n          46,\n          66,\n          48\n        ],\n        \"semantic_type\": \"\",\n        \"description\": \"\"\n      }\n    },\n    {\n      \"column\": \"sex\",\n      \"properties\": {\n        \"dtype\": \"number\",\n        \"std\": 0,\n        \"min\": 0,\n        \"max\": 1,\n        \"num_unique_values\": 2,\n        \"samples\": [\n          0,\n          1\n        ],\n        \"semantic_type\": \"\",\n        \"description\": \"\"\n      }\n    },\n    {\n      \"column\": \"cp\",\n      \"properties\": {\n        \"dtype\": \"number\",\n        \"std\": 1,\n        \"min\": 0,\n        \"max\": 3,\n        \"num_unique_values\": 4,\n        \"samples\": [\n          2,\n          0\n        ],\n        \"semantic_type\": \"\",\n        \"description\": \"\"\n      }\n    },\n    {\n      \"column\": \"trestbps\",\n      \"properties\": {\n        \"dtype\": \"number\",\n        \"std\": 17,\n        \"min\": 94,\n        \"max\": 200,\n        \"num_unique_values\": 49,\n        \"samples\": [\n          104,\n          123\n        ],\n        \"semantic_type\": \"\",\n        \"description\": \"\"\n      }\n    },\n    {\n      \"column\": \"chol\",\n      \"properties\": {\n        \"dtype\": \"number\",\n        \"std\": 51,\n        \"min\": 126,\n        \"max\": 564,\n        \"num_unique_values\": 152,\n        \"samples\": [\n          277,\n          169\n        ],\n        \"semantic_type\": \"\",\n        \"description\": \"\"\n      }\n    },\n    {\n      \"column\": \"fbs\",\n      \"properties\": {\n        \"dtype\": \"number\",\n        \"std\": 0,\n        \"min\": 0,\n        \"max\": 1,\n        \"num_unique_values\": 2,\n        \"samples\": [\n          0,\n          1\n        ],\n        \"semantic_type\": \"\",\n        \"description\": \"\"\n      }\n    },\n    {\n      \"column\": \"restecg\",\n      \"properties\": {\n        \"dtype\": \"number\",\n        \"std\": 0,\n        \"min\": 0,\n        \"max\": 2,\n        \"num_unique_values\": 3,\n        \"samples\": [\n          0,\n          1\n        ],\n        \"semantic_type\": \"\",\n        \"description\": \"\"\n      }\n    },\n    {\n      \"column\": \"thalach\",\n      \"properties\": {\n        \"dtype\": \"number\",\n        \"std\": 22,\n        \"min\": 71,\n        \"max\": 202,\n        \"num_unique_values\": 91,\n        \"samples\": [\n          159,\n          152\n        ],\n        \"semantic_type\": \"\",\n        \"description\": \"\"\n      }\n    },\n    {\n      \"column\": \"exang\",\n      \"properties\": {\n        \"dtype\": \"number\",\n        \"std\": 0,\n        \"min\": 0,\n        \"max\": 1,\n        \"num_unique_values\": 2,\n        \"samples\": [\n          1,\n          0\n        ],\n        \"semantic_type\": \"\",\n        \"description\": \"\"\n      }\n    },\n    {\n      \"column\": \"oldpeak\",\n      \"properties\": {\n        \"dtype\": \"number\",\n        \"std\": 1.1610750220686348,\n        \"min\": 0.0,\n        \"max\": 6.2,\n        \"num_unique_values\": 40,\n        \"samples\": [\n          1.9,\n          3.0\n        ],\n        \"semantic_type\": \"\",\n        \"description\": \"\"\n      }\n    },\n    {\n      \"column\": \"slope\",\n      \"properties\": {\n        \"dtype\": \"number\",\n        \"std\": 0,\n        \"min\": 0,\n        \"max\": 2,\n        \"num_unique_values\": 3,\n        \"samples\": [\n          0,\n          2\n        ],\n        \"semantic_type\": \"\",\n        \"description\": \"\"\n      }\n    },\n    {\n      \"column\": \"ca\",\n      \"properties\": {\n        \"dtype\": \"number\",\n        \"std\": 1,\n        \"min\": 0,\n        \"max\": 4,\n        \"num_unique_values\": 5,\n        \"samples\": [\n          2,\n          4\n        ],\n        \"semantic_type\": \"\",\n        \"description\": \"\"\n      }\n    },\n    {\n      \"column\": \"thal\",\n      \"properties\": {\n        \"dtype\": \"number\",\n        \"std\": 0,\n        \"min\": 0,\n        \"max\": 3,\n        \"num_unique_values\": 4,\n        \"samples\": [\n          2,\n          0\n        ],\n        \"semantic_type\": \"\",\n        \"description\": \"\"\n      }\n    },\n    {\n      \"column\": \"target\",\n      \"properties\": {\n        \"dtype\": \"number\",\n        \"std\": 0,\n        \"min\": 0,\n        \"max\": 1,\n        \"num_unique_values\": 2,\n        \"samples\": [\n          0,\n          1\n        ],\n        \"semantic_type\": \"\",\n        \"description\": \"\"\n      }\n    }\n  ]\n}"
            }
          },
          "metadata": {},
          "execution_count": 2
        }
      ]
    },
    {
      "cell_type": "code",
      "source": [
        "df.info()"
      ],
      "metadata": {
        "colab": {
          "base_uri": "https://localhost:8080/"
        },
        "id": "l270jqad5hMk",
        "outputId": "7ed51e83-a24f-4925-9d5d-7595954490f3"
      },
      "execution_count": null,
      "outputs": [
        {
          "output_type": "stream",
          "name": "stdout",
          "text": [
            "<class 'pandas.core.frame.DataFrame'>\n",
            "RangeIndex: 303 entries, 0 to 302\n",
            "Data columns (total 14 columns):\n",
            " #   Column    Non-Null Count  Dtype  \n",
            "---  ------    --------------  -----  \n",
            " 0   age       303 non-null    int64  \n",
            " 1   sex       303 non-null    int64  \n",
            " 2   cp        303 non-null    int64  \n",
            " 3   trestbps  303 non-null    int64  \n",
            " 4   chol      303 non-null    int64  \n",
            " 5   fbs       303 non-null    int64  \n",
            " 6   restecg   303 non-null    int64  \n",
            " 7   thalach   303 non-null    int64  \n",
            " 8   exang     303 non-null    int64  \n",
            " 9   oldpeak   303 non-null    float64\n",
            " 10  slope     303 non-null    int64  \n",
            " 11  ca        303 non-null    int64  \n",
            " 12  thal      303 non-null    int64  \n",
            " 13  target    303 non-null    int64  \n",
            "dtypes: float64(1), int64(13)\n",
            "memory usage: 33.3 KB\n"
          ]
        }
      ]
    },
    {
      "cell_type": "code",
      "source": [
        "df.shape"
      ],
      "metadata": {
        "colab": {
          "base_uri": "https://localhost:8080/"
        },
        "id": "QvPDGL3m9dbC",
        "outputId": "6d2d5f3a-fd4d-4f9b-f22f-8e74949c6a70"
      },
      "execution_count": null,
      "outputs": [
        {
          "output_type": "execute_result",
          "data": {
            "text/plain": [
              "(303, 14)"
            ]
          },
          "metadata": {},
          "execution_count": 4
        }
      ]
    },
    {
      "cell_type": "code",
      "source": [
        "df.columns"
      ],
      "metadata": {
        "colab": {
          "base_uri": "https://localhost:8080/"
        },
        "id": "sdbLLrsTEbHk",
        "outputId": "e6e47db0-abc8-48ca-ea98-0cb42eb24340"
      },
      "execution_count": null,
      "outputs": [
        {
          "output_type": "execute_result",
          "data": {
            "text/plain": [
              "Index(['age', 'sex', 'cp', 'trestbps', 'chol', 'fbs', 'restecg', 'thalach',\n",
              "       'exang', 'oldpeak', 'slope', 'ca', 'thal', 'target'],\n",
              "      dtype='object')"
            ]
          },
          "metadata": {},
          "execution_count": 5
        }
      ]
    },
    {
      "cell_type": "markdown",
      "source": [
        "Attribute Information\n",
        "1. age\n",
        "2. sex\n",
        "3. chest pain type (4 values = 0,1,2,3)\n",
        "4. resting blood pressure\n",
        "5. serum cholestoral in mg/dl\n",
        "6. fasting blood sugar > 120 mg/dl\n",
        "7. resting electrocardiographic results (values 0,1,2)\n",
        "8. maximum heart rate achieved\n",
        "9. exercise induced angina\n",
        "10. oldpeak = ST depression induced by exercise relative to rest\n",
        "11. the slope of the peak exercise ST segment\n",
        "12. number of major vessels (0-3) colored by flourosopy\n",
        "13. thal: 0 = normal; 1 = fixed defect; 2 = reversable defect\n",
        "14. target: 0= less chance of heart attack 1= more chance of heart attack"
      ],
      "metadata": {
        "id": "V_HXZt_1EfyR"
      }
    },
    {
      "cell_type": "code",
      "source": [
        "null_values = df.isnull().sum()\n",
        "print(\"Null values in each column:\\n\", null_values)"
      ],
      "metadata": {
        "colab": {
          "base_uri": "https://localhost:8080/"
        },
        "id": "iqb0gqAA9317",
        "outputId": "74e8c2b0-ed94-44a6-8a03-d10a2c5ba3a6"
      },
      "execution_count": null,
      "outputs": [
        {
          "output_type": "stream",
          "name": "stdout",
          "text": [
            "Null values in each column:\n",
            " age         0\n",
            "sex         0\n",
            "cp          0\n",
            "trestbps    0\n",
            "chol        0\n",
            "fbs         0\n",
            "restecg     0\n",
            "thalach     0\n",
            "exang       0\n",
            "oldpeak     0\n",
            "slope       0\n",
            "ca          0\n",
            "thal        0\n",
            "target      0\n",
            "dtype: int64\n"
          ]
        }
      ]
    },
    {
      "cell_type": "code",
      "source": [
        "X = df.drop(\"target\", axis=1)\n",
        "y = df[\"target\"].apply(lambda x: 1 if x > 0 else 0)  # Binarize the target\n"
      ],
      "metadata": {
        "id": "2gMwYbV-iCZ7"
      },
      "execution_count": null,
      "outputs": []
    },
    {
      "cell_type": "code",
      "source": [
        "X_train, X_test, y_train, y_test = train_test_split(X, y, test_size=0.2, random_state=42)"
      ],
      "metadata": {
        "id": "7jattrFRiQbb"
      },
      "execution_count": null,
      "outputs": []
    },
    {
      "cell_type": "markdown",
      "source": [
        "Hyperparameters: n_estimators, max_depth, min_samples_split, and max_leaf_nodes."
      ],
      "metadata": {
        "id": "IXXvcoejti0c"
      }
    },
    {
      "cell_type": "code",
      "source": [
        "# Define hyperparameters and their values\n",
        "hyperparameters = {\n",
        "    'n_estimators': [100, 500],\n",
        "    'max_depth': [10, 20],\n",
        "    'min_samples_split': [2, 10],\n",
        "    'max_leaf_nodes': [10, 20]\n",
        "}"
      ],
      "metadata": {
        "id": "FhcezF_uu9Nr"
      },
      "execution_count": null,
      "outputs": []
    },
    {
      "cell_type": "markdown",
      "source": [
        "1. Number of Trees (n_estimators)\n",
        "\n",
        "  * Values: 100, 500\n",
        "  * Justification: The number of trees affects the robustness and accuracy of the model. Increasing the number of trees generally improves performance due to reduced variance but increases computational cost. Testing 100 and 500 balances performance and efficiency.\n",
        "\n",
        "2. Maximum Depth (max_depth)\n",
        "\n",
        "  * Values: 10, 20\n",
        "  * Justification: Controls the maximum depth of each tree. Deeper trees can capture more complex patterns but may overfit. Testing depths of 10 and 20 helps find a balance between complexity and overfitting.\n",
        "\n",
        "3. Minimum Samples Split (min_samples_split)\n",
        "\n",
        "  * Values: 2, 10\n",
        "  * Justification: Minimum number of samples required to split an internal node. Lower values allow the model to learn more detailed patterns, while higher values can prevent overfitting. Testing 2 and 10 helps balance learning detailed patterns and generalization.\n",
        "\n",
        "4. Maximum Leaf Nodes (max_leaf_nodes)\n",
        "\n",
        "  * Values: 10, 20\n",
        "  * Justification: Limits the number of leaf nodes in the trees. Fewer leaf nodes can simplify the model and help prevent overfitting. Testing 10 and 20 helps assess the trade-off between simplicity and model performance."
      ],
      "metadata": {
        "id": "b1_DGmahu_NZ"
      }
    },
    {
      "cell_type": "markdown",
      "source": [
        "Tree Diagram"
      ],
      "metadata": {
        "id": "_tjpl3FR66B6"
      }
    },
    {
      "cell_type": "code",
      "source": [
        "import graphviz\n",
        "from sklearn.ensemble import RandomForestClassifier\n",
        "\n",
        "def create_hyperparameter_tree(hyperparameters):\n",
        "    dot = graphviz.Digraph(comment='Hyperparameters Tree')\n",
        "\n",
        "    # Adding root node\n",
        "    dot.node('Root', 'Hyperparameters')\n",
        "\n",
        "    # Adding hyperparameter nodes\n",
        "    for i, (param, values) in enumerate(hyperparameters.items()):\n",
        "        param_node = f'Param_{i}'\n",
        "        dot.node(param_node, param)\n",
        "        dot.edge('Root', param_node)\n",
        "\n",
        "        # Adding value nodes\n",
        "        for value in values:\n",
        "            value_node = f'{param}_{value}'\n",
        "            dot.node(value_node, str(value))\n",
        "            dot.edge(param_node, value_node)\n",
        "\n",
        "    return dot\n",
        "\n",
        "# Define hyperparameters for Random Forest\n",
        "hyperparameters_rf = {\n",
        "    'n_estimators': [100, 500],\n",
        "    'max_depth': [10, 20],\n",
        "    'min_samples_split': [2, 10],\n",
        "    'max_leaf_nodes': [10, 20]\n",
        "}\n",
        "\n",
        "# Create and render the tree\n",
        "tree_rf = create_hyperparameter_tree(hyperparameters_rf)\n",
        "tree_rf.render('hyperparameters_tree_rf', format='png')\n",
        "\n",
        "# Display the image\n",
        "Image(filename='hyperparameters_tree_rf.png')"
      ],
      "metadata": {
        "colab": {
          "base_uri": "https://localhost:8080/",
          "height": 268
        },
        "id": "aPHocxU77Dbw",
        "outputId": "7d148d76-242e-4d34-ea15-f7af58776426"
      },
      "execution_count": null,
      "outputs": [
        {
          "output_type": "execute_result",
          "data": {
            "image/png": "[encoded data removed]",
            "text/plain": [
              "<IPython.core.display.Image object>"
            ]
          },
          "metadata": {},
          "execution_count": 37
        }
      ]
    },
    {
      "cell_type": "code",
      "source": [
        "import pandas as pd\n",
        "\n",
        "# Define the hyperparameters for both models\n",
        "hyperparameters_rf = {\n",
        "    'n_estimators': [100, 500],\n",
        "    'max_depth': [10, 20],\n",
        "    'min_samples_split': [2, 10],\n",
        "    'max_leaf_nodes': [10, 20]\n",
        "}\n",
        "\n",
        "# Convert hyperparameters to DataFrame\n",
        "df_hyperparameters_rf = pd.DataFrame.from_dict(hyperparameters_rf)\n",
        "\n",
        "# Add a column for the model type\n",
        "df_hyperparameters_rf['Model'] = 'Random Forest'\n",
        "\n",
        "# Reorder columns for better readability\n",
        "df_hyperparameters_rf = df_hyperparameters_rf[['Model', 'n_estimators', 'max_depth', 'min_samples_split', 'max_leaf_nodes']]\n",
        "\n",
        "# Display the experimental design\n",
        "print(\"Proposed Experimental Design:\")\n",
        "print(df_hyperparameters_rf)\n"
      ],
      "metadata": {
        "id": "xZM7lNBEB4HJ",
        "outputId": "1bb0defa-19f0-4339-f3ec-80636bed5426",
        "colab": {
          "base_uri": "https://localhost:8080/"
        }
      },
      "execution_count": null,
      "outputs": [
        {
          "output_type": "stream",
          "name": "stdout",
          "text": [
            "Proposed Experimental Design:\n",
            "           Model  n_estimators  max_depth  min_samples_split  max_leaf_nodes\n",
            "0  Random Forest           100         10                  2              10\n",
            "1  Random Forest           500         20                 10              20\n"
          ]
        }
      ]
    },
    {
      "cell_type": "markdown",
      "source": [
        "Tuning"
      ],
      "metadata": {
        "id": "9M9zq8m56GWF"
      }
    },
    {
      "cell_type": "code",
      "source": [
        "# Train model with default Random Forest Classifier\n",
        "model = RandomForestClassifier()\n",
        "model.fit(X_train, y_train)\n",
        "\n",
        "# Predict model\n",
        "y_pred = model.predict(X_test)\n",
        "\n",
        "# Performance evaluation metrics\n",
        "print(\"\\nRandom Forest Model Performance: \")\n",
        "print(\"Accuracy: \", accuracy_score(y_pred, y_test))\n",
        "print(\"\\nClassification Report\\n \")\n",
        "print(classification_report(y_pred, y_test))"
      ],
      "metadata": {
        "colab": {
          "base_uri": "https://localhost:8080/"
        },
        "id": "PRdwvStZ1EMY",
        "outputId": "0d9a4ae7-cc05-4df5-ab59-dd9c186c7b73"
      },
      "execution_count": null,
      "outputs": [
        {
          "output_type": "stream",
          "name": "stdout",
          "text": [
            "\n",
            "Random Forest Model Performance: \n",
            "Accuracy:  0.8360655737704918\n",
            "\n",
            "Classification Report\n",
            " \n",
            "              precision    recall  f1-score   support\n",
            "\n",
            "           0       0.83      0.83      0.83        29\n",
            "           1       0.84      0.84      0.84        32\n",
            "\n",
            "    accuracy                           0.84        61\n",
            "   macro avg       0.84      0.84      0.84        61\n",
            "weighted avg       0.84      0.84      0.84        61\n",
            "\n"
          ]
        }
      ]
    },
    {
      "cell_type": "code",
      "source": [
        "# Hyperparater Tuning (Combination 1)\n",
        "model = RandomForestClassifier(n_estimators=100, max_depth=10, min_samples_split=2, max_leaf_nodes=10)\n",
        "model.fit(X_train, y_train)\n",
        "\n",
        "# Predict model\n",
        "y_pred = model.predict(X_test)\n",
        "\n",
        "# Performance evaluation metrics\n",
        "print(\"\\nRandom Forest Model Performance (combination 1): \")\n",
        "print(\"Accuracy: \", accuracy_score(y_pred, y_test))\n",
        "print(\"\\nClassification Report\\n \")\n",
        "print(classification_report(y_pred, y_test))"
      ],
      "metadata": {
        "colab": {
          "base_uri": "https://localhost:8080/"
        },
        "id": "fLVZqVWt4Fq8",
        "outputId": "7c5e9c01-8e7d-41ed-fdb2-eb38ae4089a0"
      },
      "execution_count": null,
      "outputs": [
        {
          "output_type": "stream",
          "name": "stdout",
          "text": [
            "\n",
            "Random Forest Model Performance (combination 1): \n",
            "Accuracy:  0.8688524590163934\n",
            "\n",
            "Classification Report\n",
            " \n",
            "              precision    recall  f1-score   support\n",
            "\n",
            "           0       0.83      0.89      0.86        27\n",
            "           1       0.91      0.85      0.88        34\n",
            "\n",
            "    accuracy                           0.87        61\n",
            "   macro avg       0.87      0.87      0.87        61\n",
            "weighted avg       0.87      0.87      0.87        61\n",
            "\n"
          ]
        }
      ]
    },
    {
      "cell_type": "code",
      "source": [
        "# Hyperparater Tuning (Combination 2)\n",
        "model = RandomForestClassifier(n_estimators=100, max_depth=10, min_samples_split=2, max_leaf_nodes=20)\n",
        "model.fit(X_train, y_train)\n",
        "\n",
        "# Predict model\n",
        "y_pred = model.predict(X_test)\n",
        "\n",
        "# Performance evaluation metrics\n",
        "print(\"\\nRandom Forest Model Performance (combination 2): \")\n",
        "print(\"Accuracy: \", accuracy_score(y_pred, y_test))\n",
        "print(\"\\nClassification Report\\n \")\n",
        "print(classification_report(y_pred, y_test))"
      ],
      "metadata": {
        "colab": {
          "base_uri": "https://localhost:8080/"
        },
        "id": "D6Vqf4Xh5cEz",
        "outputId": "380ab991-ec34-4d4d-955c-8c6547b6fafd"
      },
      "execution_count": null,
      "outputs": [
        {
          "output_type": "stream",
          "name": "stdout",
          "text": [
            "\n",
            "Random Forest Model Performance (combination 2): \n",
            "Accuracy:  0.8688524590163934\n",
            "\n",
            "Classification Report\n",
            " \n",
            "              precision    recall  f1-score   support\n",
            "\n",
            "           0       0.83      0.89      0.86        27\n",
            "           1       0.91      0.85      0.88        34\n",
            "\n",
            "    accuracy                           0.87        61\n",
            "   macro avg       0.87      0.87      0.87        61\n",
            "weighted avg       0.87      0.87      0.87        61\n",
            "\n"
          ]
        }
      ]
    },
    {
      "cell_type": "code",
      "source": [
        "# Hyperparater Tuning (Combination 3)\n",
        "model = RandomForestClassifier(n_estimators=100, max_depth=10, min_samples_split=10, max_leaf_nodes=10)\n",
        "model.fit(X_train, y_train)\n",
        "\n",
        "# Predict model\n",
        "y_pred = model.predict(X_test)\n",
        "\n",
        "# Performance evaluation metrics\n",
        "print(\"\\nRandom Forest Model Performance (combination 3): \")\n",
        "print(\"Accuracy: \", accuracy_score(y_pred, y_test))\n",
        "print(\"\\nClassification Report\\n \")\n",
        "print(classification_report(y_pred, y_test))"
      ],
      "metadata": {
        "colab": {
          "base_uri": "https://localhost:8080/"
        },
        "id": "jWhRIkzvD3yD",
        "outputId": "f17ae9c5-4da4-4cb0-eea3-c091921d252e"
      },
      "execution_count": null,
      "outputs": [
        {
          "output_type": "stream",
          "name": "stdout",
          "text": [
            "\n",
            "Random Forest Model Performance (combination 3): \n",
            "Accuracy:  0.8852459016393442\n",
            "\n",
            "Classification Report\n",
            " \n",
            "              precision    recall  f1-score   support\n",
            "\n",
            "           0       0.86      0.89      0.88        28\n",
            "           1       0.91      0.88      0.89        33\n",
            "\n",
            "    accuracy                           0.89        61\n",
            "   macro avg       0.88      0.89      0.88        61\n",
            "weighted avg       0.89      0.89      0.89        61\n",
            "\n"
          ]
        }
      ]
    },
    {
      "cell_type": "code",
      "source": [
        "# Hyperparater Tuning (Combination 4)\n",
        "model = RandomForestClassifier(n_estimators=100, max_depth=10, min_samples_split=10, max_leaf_nodes=20)\n",
        "model.fit(X_train, y_train)\n",
        "\n",
        "# Predict model\n",
        "y_pred = model.predict(X_test)\n",
        "\n",
        "# Performance evaluation metrics\n",
        "print(\"\\nRandom Forest Model Performance (combination 4): \")\n",
        "print(\"Accuracy: \", accuracy_score(y_pred, y_test))\n",
        "print(\"\\nClassification Report\\n \")\n",
        "print(classification_report(y_pred, y_test))"
      ],
      "metadata": {
        "colab": {
          "base_uri": "https://localhost:8080/"
        },
        "id": "XlSIA8-8EE_b",
        "outputId": "e240ed70-8b37-440d-b769-2058f127f31f"
      },
      "execution_count": null,
      "outputs": [
        {
          "output_type": "stream",
          "name": "stdout",
          "text": [
            "\n",
            "Random Forest Model Performance (combination 4): \n",
            "Accuracy:  0.8524590163934426\n",
            "\n",
            "Classification Report\n",
            " \n",
            "              precision    recall  f1-score   support\n",
            "\n",
            "           0       0.83      0.86      0.84        28\n",
            "           1       0.88      0.85      0.86        33\n",
            "\n",
            "    accuracy                           0.85        61\n",
            "   macro avg       0.85      0.85      0.85        61\n",
            "weighted avg       0.85      0.85      0.85        61\n",
            "\n"
          ]
        }
      ]
    },
    {
      "cell_type": "code",
      "source": [
        "# Hyperparater Tuning (Combination 5)\n",
        "model = RandomForestClassifier(n_estimators=100, max_depth=20, min_samples_split=2, max_leaf_nodes=10)\n",
        "model.fit(X_train, y_train)\n",
        "\n",
        "# Predict model\n",
        "y_pred = model.predict(X_test)\n",
        "\n",
        "# Performance evaluation metrics\n",
        "print(\"\\nRandom Forest Model Performance (combination 5): \")\n",
        "print(\"Accuracy: \", accuracy_score(y_pred, y_test))\n",
        "print(\"\\nClassification Report\\n \")\n",
        "print(classification_report(y_pred, y_test))"
      ],
      "metadata": {
        "colab": {
          "base_uri": "https://localhost:8080/"
        },
        "id": "LdbtxZxnEHD7",
        "outputId": "1b0e1e54-d108-4275-9e9c-9dbc00a22b95"
      },
      "execution_count": null,
      "outputs": [
        {
          "output_type": "stream",
          "name": "stdout",
          "text": [
            "\n",
            "Random Forest Model Performance (combination 5): \n",
            "Accuracy:  0.8688524590163934\n",
            "\n",
            "Classification Report\n",
            " \n",
            "              precision    recall  f1-score   support\n",
            "\n",
            "           0       0.83      0.89      0.86        27\n",
            "           1       0.91      0.85      0.88        34\n",
            "\n",
            "    accuracy                           0.87        61\n",
            "   macro avg       0.87      0.87      0.87        61\n",
            "weighted avg       0.87      0.87      0.87        61\n",
            "\n"
          ]
        }
      ]
    },
    {
      "cell_type": "code",
      "source": [
        "# Hyperparater Tuning (Combination 6)\n",
        "model = RandomForestClassifier(n_estimators=100, max_depth=20, min_samples_split=2, max_leaf_nodes=20)\n",
        "model.fit(X_train, y_train)\n",
        "\n",
        "# Predict model\n",
        "y_pred = model.predict(X_test)\n",
        "\n",
        "# Performance evaluation metrics\n",
        "print(\"\\nRandom Forest Model Performance (combination 6): \")\n",
        "print(\"Accuracy: \", accuracy_score(y_pred, y_test))\n",
        "print(\"\\nClassification Report\\n \")\n",
        "print(classification_report(y_pred, y_test))"
      ],
      "metadata": {
        "colab": {
          "base_uri": "https://localhost:8080/"
        },
        "id": "rcaL2nrPERmw",
        "outputId": "30036f9a-3480-4a80-e1be-f1a42cca3c9e"
      },
      "execution_count": null,
      "outputs": [
        {
          "output_type": "stream",
          "name": "stdout",
          "text": [
            "\n",
            "Random Forest Model Performance (combination 6): \n",
            "Accuracy:  0.8688524590163934\n",
            "\n",
            "Classification Report\n",
            " \n",
            "              precision    recall  f1-score   support\n",
            "\n",
            "           0       0.86      0.86      0.86        29\n",
            "           1       0.88      0.88      0.88        32\n",
            "\n",
            "    accuracy                           0.87        61\n",
            "   macro avg       0.87      0.87      0.87        61\n",
            "weighted avg       0.87      0.87      0.87        61\n",
            "\n"
          ]
        }
      ]
    },
    {
      "cell_type": "code",
      "source": [
        "# Hyperparater Tuning (Combination 7)\n",
        "model = RandomForestClassifier(n_estimators=100, max_depth=20, min_samples_split=10, max_leaf_nodes=10)\n",
        "model.fit(X_train, y_train)\n",
        "\n",
        "# Predict model\n",
        "y_pred = model.predict(X_test)\n",
        "\n",
        "# Performance evaluation metrics\n",
        "print(\"\\nRandom Forest Model Performance (combination 7): \")\n",
        "print(\"Accuracy: \", accuracy_score(y_pred, y_test))\n",
        "print(\"\\nClassification Report\\n \")\n",
        "print(classification_report(y_pred, y_test))"
      ],
      "metadata": {
        "colab": {
          "base_uri": "https://localhost:8080/"
        },
        "id": "KVukTU7uEUO0",
        "outputId": "3cd0123a-3b99-4749-9eb5-01a87578b596"
      },
      "execution_count": null,
      "outputs": [
        {
          "output_type": "stream",
          "name": "stdout",
          "text": [
            "\n",
            "Random Forest Model Performance (combination 7): \n",
            "Accuracy:  0.8524590163934426\n",
            "\n",
            "Classification Report\n",
            " \n",
            "              precision    recall  f1-score   support\n",
            "\n",
            "           0       0.83      0.86      0.84        28\n",
            "           1       0.88      0.85      0.86        33\n",
            "\n",
            "    accuracy                           0.85        61\n",
            "   macro avg       0.85      0.85      0.85        61\n",
            "weighted avg       0.85      0.85      0.85        61\n",
            "\n"
          ]
        }
      ]
    },
    {
      "cell_type": "code",
      "source": [
        "# Hyperparater Tuning (Combination 8)\n",
        "model = RandomForestClassifier(n_estimators=100, max_depth=20, min_samples_split=10, max_leaf_nodes=20)\n",
        "model.fit(X_train, y_train)\n",
        "\n",
        "# Predict model\n",
        "y_pred = model.predict(X_test)\n",
        "\n",
        "# Performance evaluation metrics\n",
        "print(\"\\nRandom Forest Model Performance (combination 8): \")\n",
        "print(\"Accuracy: \", accuracy_score(y_pred, y_test))\n",
        "print(\"\\nClassification Report\\n \")\n",
        "print(classification_report(y_pred, y_test))"
      ],
      "metadata": {
        "colab": {
          "base_uri": "https://localhost:8080/"
        },
        "id": "F0K96fzgEV3f",
        "outputId": "f463840b-eb9d-4dc2-caed-e16177cd13e7"
      },
      "execution_count": null,
      "outputs": [
        {
          "output_type": "stream",
          "name": "stdout",
          "text": [
            "\n",
            "Random Forest Model Performance (combination 8): \n",
            "Accuracy:  0.8688524590163934\n",
            "\n",
            "Classification Report\n",
            " \n",
            "              precision    recall  f1-score   support\n",
            "\n",
            "           0       0.83      0.89      0.86        27\n",
            "           1       0.91      0.85      0.88        34\n",
            "\n",
            "    accuracy                           0.87        61\n",
            "   macro avg       0.87      0.87      0.87        61\n",
            "weighted avg       0.87      0.87      0.87        61\n",
            "\n"
          ]
        }
      ]
    },
    {
      "cell_type": "code",
      "source": [
        "# Hyperparater Tuning (Combination 9)\n",
        "model = RandomForestClassifier(n_estimators=500, max_depth=10, min_samples_split=2, max_leaf_nodes=10)\n",
        "model.fit(X_train, y_train)\n",
        "\n",
        "# Predict model\n",
        "y_pred = model.predict(X_test)\n",
        "\n",
        "# Performance evaluation metrics\n",
        "print(\"\\nRandom Forest Model Performance (combination 9): \")\n",
        "print(\"Accuracy: \", accuracy_score(y_pred, y_test))\n",
        "print(\"\\nClassification Report\\n \")\n",
        "print(classification_report(y_pred, y_test))"
      ],
      "metadata": {
        "colab": {
          "base_uri": "https://localhost:8080/"
        },
        "id": "yYtNU-ubEXjZ",
        "outputId": "2783b973-5846-4259-c43d-620f2d82ab04"
      },
      "execution_count": null,
      "outputs": [
        {
          "output_type": "stream",
          "name": "stdout",
          "text": [
            "\n",
            "Random Forest Model Performance (combination 9): \n",
            "Accuracy:  0.8688524590163934\n",
            "\n",
            "Classification Report\n",
            " \n",
            "              precision    recall  f1-score   support\n",
            "\n",
            "           0       0.83      0.89      0.86        27\n",
            "           1       0.91      0.85      0.88        34\n",
            "\n",
            "    accuracy                           0.87        61\n",
            "   macro avg       0.87      0.87      0.87        61\n",
            "weighted avg       0.87      0.87      0.87        61\n",
            "\n"
          ]
        }
      ]
    },
    {
      "cell_type": "code",
      "source": [
        "# Hyperparater Tuning (Combination 10)\n",
        "model = RandomForestClassifier(n_estimators=200, max_depth=10, min_samples_split=2, max_leaf_nodes=20)\n",
        "model.fit(X_train, y_train)\n",
        "\n",
        "# Predict model\n",
        "y_pred = model.predict(X_test)\n",
        "\n",
        "# Performance evaluation metrics\n",
        "print(\"\\nRandom Forest Model Performance (combination 10): \")\n",
        "print(\"Accuracy: \", accuracy_score(y_pred, y_test))\n",
        "print(\"\\nClassification Report\\n \")\n",
        "print(classification_report(y_pred, y_test))"
      ],
      "metadata": {
        "colab": {
          "base_uri": "https://localhost:8080/"
        },
        "id": "nx_VtMlKEZjp",
        "outputId": "60c58b9e-5ce5-49a1-c537-7be8c54ddb82"
      },
      "execution_count": null,
      "outputs": [
        {
          "output_type": "stream",
          "name": "stdout",
          "text": [
            "\n",
            "Random Forest Model Performance (combination 10): \n",
            "Accuracy:  0.8524590163934426\n",
            "\n",
            "Classification Report\n",
            " \n",
            "              precision    recall  f1-score   support\n",
            "\n",
            "           0       0.83      0.86      0.84        28\n",
            "           1       0.88      0.85      0.86        33\n",
            "\n",
            "    accuracy                           0.85        61\n",
            "   macro avg       0.85      0.85      0.85        61\n",
            "weighted avg       0.85      0.85      0.85        61\n",
            "\n"
          ]
        }
      ]
    },
    {
      "cell_type": "code",
      "source": [
        "# Hyperparater Tuning (Combination 11)\n",
        "model = RandomForestClassifier(n_estimators=500, max_depth=10, min_samples_split=10, max_leaf_nodes=10)\n",
        "model.fit(X_train, y_train)\n",
        "\n",
        "# Predict model\n",
        "y_pred = model.predict(X_test)\n",
        "\n",
        "# Performance evaluation metrics\n",
        "print(\"\\nRandom Forest Model Performance (combination 11): \")\n",
        "print(\"Accuracy: \", accuracy_score(y_pred, y_test))\n",
        "print(\"\\nClassification Report\\n \")\n",
        "print(classification_report(y_pred, y_test))"
      ],
      "metadata": {
        "colab": {
          "base_uri": "https://localhost:8080/"
        },
        "id": "_yKlw_DREbIS",
        "outputId": "44c0926b-20ec-4131-dc0d-eb6b495a5ed0"
      },
      "execution_count": null,
      "outputs": [
        {
          "output_type": "stream",
          "name": "stdout",
          "text": [
            "\n",
            "Random Forest Model Performance (combination 11): \n",
            "Accuracy:  0.8688524590163934\n",
            "\n",
            "Classification Report\n",
            " \n",
            "              precision    recall  f1-score   support\n",
            "\n",
            "           0       0.83      0.89      0.86        27\n",
            "           1       0.91      0.85      0.88        34\n",
            "\n",
            "    accuracy                           0.87        61\n",
            "   macro avg       0.87      0.87      0.87        61\n",
            "weighted avg       0.87      0.87      0.87        61\n",
            "\n"
          ]
        }
      ]
    },
    {
      "cell_type": "code",
      "source": [
        "# Hyperparater Tuning (Combination 12)\n",
        "model = RandomForestClassifier(n_estimators=500, max_depth=10, min_samples_split=10, max_leaf_nodes=20)\n",
        "model.fit(X_train, y_train)\n",
        "\n",
        "# Predict model\n",
        "y_pred = model.predict(X_test)\n",
        "\n",
        "# Performance evaluation metrics\n",
        "print(\"\\nRandom Forest Model Performance (combination 12): \")\n",
        "print(\"Accuracy: \", accuracy_score(y_pred, y_test))\n",
        "print(\"\\nClassification Report\\n \")\n",
        "print(classification_report(y_pred, y_test))"
      ],
      "metadata": {
        "colab": {
          "base_uri": "https://localhost:8080/"
        },
        "id": "GRvDtAc6EdAP",
        "outputId": "8a3c6424-ba91-4450-df89-60e5c8ec6755"
      },
      "execution_count": null,
      "outputs": [
        {
          "output_type": "stream",
          "name": "stdout",
          "text": [
            "\n",
            "Random Forest Model Performance (combination 12): \n",
            "Accuracy:  0.8688524590163934\n",
            "\n",
            "Classification Report\n",
            " \n",
            "              precision    recall  f1-score   support\n",
            "\n",
            "           0       0.83      0.89      0.86        27\n",
            "           1       0.91      0.85      0.88        34\n",
            "\n",
            "    accuracy                           0.87        61\n",
            "   macro avg       0.87      0.87      0.87        61\n",
            "weighted avg       0.87      0.87      0.87        61\n",
            "\n"
          ]
        }
      ]
    },
    {
      "cell_type": "code",
      "source": [
        "# Hyperparater Tuning (Combination 13)\n",
        "model = RandomForestClassifier(n_estimators=500, max_depth=20, min_samples_split=2, max_leaf_nodes=10)\n",
        "model.fit(X_train, y_train)\n",
        "\n",
        "# Predict model\n",
        "y_pred = model.predict(X_test)\n",
        "\n",
        "# Performance evaluation metrics\n",
        "print(\"\\nRandom Forest Model Performance (combination 13): \")\n",
        "print(\"Accuracy: \", accuracy_score(y_pred, y_test))\n",
        "print(\"\\nClassification Report\\n \")\n",
        "print(classification_report(y_pred, y_test))"
      ],
      "metadata": {
        "colab": {
          "base_uri": "https://localhost:8080/"
        },
        "id": "AaiJghvQEewz",
        "outputId": "3778329e-69a0-4a8f-cb7f-1f6adf5355f3"
      },
      "execution_count": null,
      "outputs": [
        {
          "output_type": "stream",
          "name": "stdout",
          "text": [
            "\n",
            "Random Forest Model Performance (combination 13): \n",
            "Accuracy:  0.8688524590163934\n",
            "\n",
            "Classification Report\n",
            " \n",
            "              precision    recall  f1-score   support\n",
            "\n",
            "           0       0.83      0.89      0.86        27\n",
            "           1       0.91      0.85      0.88        34\n",
            "\n",
            "    accuracy                           0.87        61\n",
            "   macro avg       0.87      0.87      0.87        61\n",
            "weighted avg       0.87      0.87      0.87        61\n",
            "\n"
          ]
        }
      ]
    },
    {
      "cell_type": "code",
      "source": [
        "# Hyperparater Tuning (Combination 14)\n",
        "model = RandomForestClassifier(n_estimators=500, max_depth=20, min_samples_split=2, max_leaf_nodes=20)\n",
        "model.fit(X_train, y_train)\n",
        "\n",
        "# Predict model\n",
        "y_pred = model.predict(X_test)\n",
        "\n",
        "# Performance evaluation metrics\n",
        "print(\"\\nRandom Forest Model Performance (combination 14): \")\n",
        "print(\"Accuracy: \", accuracy_score(y_pred, y_test))\n",
        "print(\"\\nClassification Report\\n \")\n",
        "print(classification_report(y_pred, y_test))"
      ],
      "metadata": {
        "colab": {
          "base_uri": "https://localhost:8080/"
        },
        "id": "uvppkGfQEgdR",
        "outputId": "3a6f6569-cf78-4f41-8230-8efb53cbaed7"
      },
      "execution_count": null,
      "outputs": [
        {
          "output_type": "stream",
          "name": "stdout",
          "text": [
            "\n",
            "Random Forest Model Performance (combination 14): \n",
            "Accuracy:  0.8688524590163934\n",
            "\n",
            "Classification Report\n",
            " \n",
            "              precision    recall  f1-score   support\n",
            "\n",
            "           0       0.83      0.89      0.86        27\n",
            "           1       0.91      0.85      0.88        34\n",
            "\n",
            "    accuracy                           0.87        61\n",
            "   macro avg       0.87      0.87      0.87        61\n",
            "weighted avg       0.87      0.87      0.87        61\n",
            "\n"
          ]
        }
      ]
    },
    {
      "cell_type": "code",
      "source": [
        "# Hyperparater Tuning (Combination 15)\n",
        "model = RandomForestClassifier(n_estimators=500, max_depth=20, min_samples_split=10, max_leaf_nodes=10)\n",
        "model.fit(X_train, y_train)\n",
        "\n",
        "# Predict model\n",
        "y_pred = model.predict(X_test)\n",
        "\n",
        "# Performance evaluation metrics\n",
        "print(\"\\nRandom Forest Model Performance (combination 15): \")\n",
        "print(\"Accuracy: \", accuracy_score(y_pred, y_test))\n",
        "print(\"\\nClassification Report\\n \")\n",
        "print(classification_report(y_pred, y_test))"
      ],
      "metadata": {
        "colab": {
          "base_uri": "https://localhost:8080/"
        },
        "id": "iD70lDrUEoF2",
        "outputId": "dc1a2862-4ae5-4ce8-c5f9-3ae266998f30"
      },
      "execution_count": null,
      "outputs": [
        {
          "output_type": "stream",
          "name": "stdout",
          "text": [
            "\n",
            "Random Forest Model Performance (combination 15): \n",
            "Accuracy:  0.8688524590163934\n",
            "\n",
            "Classification Report\n",
            " \n",
            "              precision    recall  f1-score   support\n",
            "\n",
            "           0       0.83      0.89      0.86        27\n",
            "           1       0.91      0.85      0.88        34\n",
            "\n",
            "    accuracy                           0.87        61\n",
            "   macro avg       0.87      0.87      0.87        61\n",
            "weighted avg       0.87      0.87      0.87        61\n",
            "\n"
          ]
        }
      ]
    },
    {
      "cell_type": "code",
      "source": [
        "# Hyperparater Tuning (Combination 16)\n",
        "model = RandomForestClassifier(n_estimators=500, max_depth=20, min_samples_split=10, max_leaf_nodes=20)\n",
        "model.fit(X_train, y_train)\n",
        "\n",
        "# Predict model\n",
        "y_pred = model.predict(X_test)\n",
        "\n",
        "# Performance evaluation metrics\n",
        "print(\"\\nRandom Forest Model Performance (combination 16): \")\n",
        "print(\"Accuracy: \", accuracy_score(y_pred, y_test))\n",
        "print(\"\\nClassification Report\\n \")\n",
        "print(classification_report(y_pred, y_test))"
      ],
      "metadata": {
        "colab": {
          "base_uri": "https://localhost:8080/"
        },
        "id": "RLWhKAZHEq-p",
        "outputId": "ec6c68b4-b947-4144-d82b-1330a04efa8f"
      },
      "execution_count": null,
      "outputs": [
        {
          "output_type": "stream",
          "name": "stdout",
          "text": [
            "\n",
            "Random Forest Model Performance (combination 16): \n",
            "Accuracy:  0.8688524590163934\n",
            "\n",
            "Classification Report\n",
            " \n",
            "              precision    recall  f1-score   support\n",
            "\n",
            "           0       0.83      0.89      0.86        27\n",
            "           1       0.91      0.85      0.88        34\n",
            "\n",
            "    accuracy                           0.87        61\n",
            "   macro avg       0.87      0.87      0.87        61\n",
            "weighted avg       0.87      0.87      0.87        61\n",
            "\n"
          ]
        }
      ]
    }
  ]
}